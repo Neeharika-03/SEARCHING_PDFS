{
 "cells": [
  {
   "cell_type": "code",
   "execution_count": 2,
   "metadata": {},
   "outputs": [],
   "source": [
    "import os\n",
    "from PyPDF2 import PdfReader\n"
   ]
  },
  {
   "cell_type": "code",
   "execution_count": 3,
   "metadata": {},
   "outputs": [],
   "source": [
    "import os\n",
    "from PyPDF2 import PdfReader\n",
    "\n",
    "def search_pdf(folder_path, search_word):\n",
    "    \n",
    "    pdfs_containing_word = []\n",
    "\n",
    "    for root, _, files in os.walk(folder_path):\n",
    "        for file in files:\n",
    "            if file.endswith(\".pdf\"):\n",
    "                file_path = os.path.join(root, file)\n",
    "                try:\n",
    "                    \n",
    "                    with open(file_path, 'rb') as pdf_file:\n",
    "                        reader = PdfReader(pdf_file)\n",
    "                        \n",
    "                        for page_num in range(len(reader.pages)):\n",
    "                            page = reader.pages[page_num]\n",
    "                            text = page.extract_text()\n",
    "                            if text and search_word.lower() in text.lower():\n",
    "                                pdfs_containing_word.append(file)\n",
    "                                break\n",
    "                except Exception as e:\n",
    "                    print(f\"Error reading {file_path}: {e}\")\n",
    "\n",
    "    return pdfs_containing_word"
   ]
  },
  {
   "cell_type": "code",
   "execution_count": 4,
   "metadata": {},
   "outputs": [
    {
     "name": "stdout",
     "output_type": "stream",
     "text": [
      "PDFs containing the word hogwarts:  ['PDF3.pdf', 'PDF2.pdf', 'PDF1.pdf']\n"
     ]
    }
   ],
   "source": [
    "folder_path = \"/Users/lalitaneeharikavajjhala/Desktop/PDFs\"\n",
    "search_word = 'hogwarts'\n",
    "pdfs_with_word = search_pdf(folder_path, search_word)\n",
    "print(f\"PDFs containing the word {search_word}: \", pdfs_with_word)"
   ]
  },
  {
   "cell_type": "code",
   "execution_count": null,
   "metadata": {},
   "outputs": [],
   "source": []
  }
 ],
 "metadata": {
  "kernelspec": {
   "display_name": "Python 3",
   "language": "python",
   "name": "python3"
  },
  "language_info": {
   "codemirror_mode": {
    "name": "ipython",
    "version": 3
   },
   "file_extension": ".py",
   "mimetype": "text/x-python",
   "name": "python",
   "nbconvert_exporter": "python",
   "pygments_lexer": "ipython3",
   "version": "3.11.8"
  }
 },
 "nbformat": 4,
 "nbformat_minor": 2
}
